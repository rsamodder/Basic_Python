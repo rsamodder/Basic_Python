{
  "nbformat": 4,
  "nbformat_minor": 0,
  "metadata": {
    "colab": {
      "provenance": [],
      "authorship_tag": "ABX9TyOAHFy7FOUfauHmLhmt5RXN",
      "include_colab_link": true
    },
    "kernelspec": {
      "name": "python3",
      "display_name": "Python 3"
    },
    "language_info": {
      "name": "python"
    }
  },
  "cells": [
    {
      "cell_type": "markdown",
      "metadata": {
        "id": "view-in-github",
        "colab_type": "text"
      },
      "source": [
        "<a href=\"https://colab.research.google.com/github/rsamodder/Basic_Python/blob/main/Python.ipynb\" target=\"_parent\"><img src=\"https://colab.research.google.com/assets/colab-badge.svg\" alt=\"Open In Colab\"/></a>"
      ]
    },
    {
      "cell_type": "markdown",
      "source": [
        "*2. Variables in python*"
      ],
      "metadata": {
        "id": "sO78_tc16W4H"
      }
    },
    {
      "cell_type": "code",
      "execution_count": null,
      "metadata": {
        "colab": {
          "base_uri": "https://localhost:8080/"
        },
        "id": "owH_n4wi40Y2",
        "outputId": "f30eaf3c-4c4e-496f-9aad-2470ae83c2f6"
      },
      "outputs": [
        {
          "output_type": "stream",
          "name": "stdout",
          "text": [
            "5\n",
            "25\n",
            "Rupa Samodder Retu\n"
          ]
        }
      ],
      "source": [
        "_break = 5\n",
        "print(_break)\n",
        "birth_year = 1999\n",
        "current_year = 2024\n",
        "age = current_year - birth_year\n",
        "print(age)\n",
        "first = \"Rupa\"\n",
        "middle = \"Samodder\"\n",
        "last = \"Retu\"\n",
        "full_name = first + ' ' + middle + ' ' + last\n",
        "print(full_name)"
      ]
    },
    {
      "cell_type": "markdown",
      "source": [
        "*3. Numbers*"
      ],
      "metadata": {
        "id": "7BQhKApv9nwL"
      }
    },
    {
      "cell_type": "code",
      "source": [
        "llong = 92\n",
        "wide = 48.8\n",
        "area = llong * wide\n",
        "print(area)\n",
        "\n",
        "packets = 9\n",
        "Each_packet = 1.49\n",
        "gave = 20\n",
        "back = gave - (packets * Each_packet)\n",
        "print(back)\n",
        "\n",
        "bathroom_tiles = 5.5 ** 2\n",
        "per_cost = 500\n",
        "total_cost = bathroom_tiles * per_cost\n",
        "print(total_cost)\n",
        "\n",
        "print('Binary Format:', format(13747774,'b'))"
      ],
      "metadata": {
        "colab": {
          "base_uri": "https://localhost:8080/"
        },
        "id": "A7aKlvy59Zag",
        "outputId": "632aca8a-e0a4-4bdb-bef0-6b289f6d01fb"
      },
      "execution_count": null,
      "outputs": [
        {
          "output_type": "stream",
          "name": "stdout",
          "text": [
            "4489.599999999999\n",
            "6.59\n",
            "15125.0\n",
            "Binary Format: 110100011100011000111110\n"
          ]
        }
      ]
    },
    {
      "cell_type": "markdown",
      "source": [
        "*4. Strings*"
      ],
      "metadata": {
        "id": "GIYQOn1xBTkj"
      }
    },
    {
      "cell_type": "code",
      "source": [
        "street = 'Golap Lane'\n",
        "city = 'Dhaka'\n",
        "country = 'Bangladesh'\n",
        "address = street + ', ' + city + ', ' + country\n",
        "print(address)\n",
        "address = f'{street}, {city}, {country}'\n",
        "print(address)\n",
        "address = street + '\\n' + city + '\\n' + country\n",
        "print(address)\n",
        "\n",
        "var = \"Earth revolves around the sun\"\n",
        "print(var[6:14])\n",
        "print(var[-3:])\n",
        "print(var[-3:-1])\n",
        "print(var[:5])\n",
        "print(var[-14:])\n",
        "\n",
        "fruits = 4\n",
        "vegetables = 10\n",
        "print(f'I eat {vegetables} veggies and {fruits} daily')\n",
        "\n",
        "s='maine 200 banana khaye'\n",
        "print(s[:5]+ ' 10 samosa ' + s[-5:])\n",
        "s='maine 200 banana khaye'\n",
        "s=s.replace('banana','samosa').replace('200','10')\n",
        "print(\"Using single line:\",s)"
      ],
      "metadata": {
        "colab": {
          "base_uri": "https://localhost:8080/"
        },
        "id": "0ebXwz2ECl32",
        "outputId": "806ca776-6a3c-468e-f25b-1857f2ee1d37"
      },
      "execution_count": null,
      "outputs": [
        {
          "output_type": "stream",
          "name": "stdout",
          "text": [
            "Golap Lane, Dhaka, Bangladesh\n",
            "Golap Lane, Dhaka, Bangladesh\n",
            "Golap Lane\n",
            "Dhaka\n",
            "Bangladesh\n",
            "revolves\n",
            "sun\n",
            "su\n",
            "Earth\n",
            "around the sun\n",
            "I eat 10 veggies and 4 daily\n",
            "maine 10 samosa khaye\n",
            "Using single line: maine 10 samosa khaye\n"
          ]
        }
      ]
    },
    {
      "cell_type": "markdown",
      "source": [
        "*5. Lists*"
      ],
      "metadata": {
        "id": "_06CoSmjTAgm"
      }
    },
    {
      "cell_type": "code",
      "source": [
        "expense = [2200, 2350, 2600, 2130, 2190]\n",
        "print(expense[1] - expense[0])\n",
        "print(expense[0] + expense[1] + expense[2])\n",
        "expense.append(1980)\n",
        "print(expense)\n",
        "expense[3] = expense[3] - 200\n",
        "print(expense)\n",
        "\n",
        "heros=['spider man','thor','hulk','iron man','captain america']\n",
        "print(len(heros))\n",
        "heros.append('black panther')\n",
        "print(heros)\n",
        "heros.remove('black panther')\n",
        "print(heros)\n",
        "heros.insert(3,'black panther')\n",
        "print(heros)\n",
        "heros[1:3] = ['doctor strange']\n",
        "print(heros)\n",
        "heros.sort()\n",
        "print(heros)"
      ],
      "metadata": {
        "colab": {
          "base_uri": "https://localhost:8080/"
        },
        "id": "8uXEJVobS8LB",
        "outputId": "b50d7eb9-d26d-4811-d4e7-7990f9af4bb5"
      },
      "execution_count": null,
      "outputs": [
        {
          "output_type": "stream",
          "name": "stdout",
          "text": [
            "150\n",
            "7150\n",
            "[2200, 2350, 2600, 2130, 2190, 1980]\n",
            "[2200, 2350, 2600, 1930, 2190, 1980]\n",
            "5\n",
            "['spider man', 'thor', 'hulk', 'iron man', 'captain america', 'black panther']\n",
            "['spider man', 'thor', 'hulk', 'iron man', 'captain america']\n",
            "['spider man', 'thor', 'hulk', 'black panther', 'iron man', 'captain america']\n",
            "['spider man', 'doctor strange', 'black panther', 'iron man', 'captain america']\n",
            "['black panther', 'captain america', 'doctor strange', 'iron man', 'spider man']\n"
          ]
        }
      ]
    },
    {
      "cell_type": "markdown",
      "source": [
        "*8. If Statement*"
      ],
      "metadata": {
        "id": "5yV-aOPNXF6v"
      }
    },
    {
      "cell_type": "code",
      "source": [
        "india = [\"mumbai\", \"banglore\", \"chennai\", \"delhi\"]\n",
        "pakistan = [\"lahore\",\"karachi\",\"islamabad\"]\n",
        "bangladesh = [\"dhaka\", \"khulna\", \"rangpur\"]\n",
        "city = input(\"Enter a city name:\")\n",
        "if city in india:\n",
        "  print(f'{city} is in India')\n",
        "elif city in pakistan:\n",
        "  print(f'{city} is in Pakistan')\n",
        "elif city in bangladesh:\n",
        "  print(f'{city} is in Bangladesh')\n",
        "else:\n",
        "  print(f'{city} is not in any country')\n",
        "\n",
        "city1 = input(\"Enter a city name:\")\n",
        "city2 = input(\"Enter a city name:\")\n",
        "if city1 in india and city2 in india:\n",
        "  print(f'{city1} and {city2} are in India')\n",
        "elif city1 in pakistan and city2 in pakistan:\n",
        "  print(f'{city1} and {city2} are in Pakistan')\n",
        "elif city1 in bangladesh and city2 in bangladesh:\n",
        "  print(f'{city1} and {city2} are in Bangladesh')\n",
        "else:\n",
        "  print(f'{city1} and {city2} are not in any country')\n",
        "\n",
        "sugar = int(input(\"Enter sugar level:\"))\n",
        "if sugar < 80:\n",
        "  print(\"Sugar level is low\")\n",
        "  print(\"Eat more\")\n",
        "elif sugar > 100:\n",
        "  print(\"Sugar level is high\")\n",
        "  print(\"Stop eating\")\n",
        "else:\n",
        "  print(\"Sugar level is normal\")"
      ],
      "metadata": {
        "colab": {
          "base_uri": "https://localhost:8080/"
        },
        "id": "1AtMpVRAXDze",
        "outputId": "291c033e-a710-4c66-d386-46a806da6802"
      },
      "execution_count": null,
      "outputs": [
        {
          "output_type": "stream",
          "name": "stdout",
          "text": [
            "Enter a city name:banglore\n",
            "banglore is in India\n",
            "Enter a city name:banglore\n",
            "Enter a city name:khulna\n",
            "banglore and khulna are not in any country\n",
            "Enter sugar level:32\n",
            "Sugar level is low\n",
            "Eat more\n"
          ]
        }
      ]
    },
    {
      "cell_type": "markdown",
      "source": [
        "*9. For loop*"
      ],
      "metadata": {
        "id": "FPpsGfmVtvIw"
      }
    },
    {
      "cell_type": "code",
      "source": [
        "result = [\"heads\",\"tails\",\"tails\",\"heads\",\"tails\",\"heads\",\"heads\",\"tails\",\"tails\",\"tails\"]\n",
        "Heads = 0\n",
        "for item in result:\n",
        "  if item == \"heads\":\n",
        "    Heads += 1\n",
        "print(\"Heads:\",Heads)\n",
        "print(\"Tails:\",len(result)-Heads)\n",
        "\n",
        "num = 1\n",
        "print(\"Square of all numbers between 1 to 10 except even numbers:\")\n",
        "for num in range(1,10):\n",
        "  if num%2 != 0:\n",
        "    odd = num ** 2\n",
        "    print(odd)\n",
        "\n",
        "expense_list = [2340, 2500, 2100, 3100, 2980]\n",
        "expense = int(input(\"Enter your expense for any month:\"))\n",
        "for item in expense_list:\n",
        "  if item == expense:\n",
        "    print(\"You have this month's expenses\")\n",
        "    break\n",
        "else:\n",
        "  print(\"You don't have this month's expenses\")\n",
        "\n",
        "for race in range(1,5):\n",
        "  print(\"Are you tired?\")\n",
        "  answer = input(\"Enter yes or no:\")\n",
        "  if answer == \"yes\":\n",
        "    print(\"You didn't finish the race\")\n",
        "    break\n",
        "else:\n",
        "  print(\"Congratulations! You finished the race\")\n",
        "\n",
        "for i in range(1,6):\n",
        "  for j in range(1,i+1):\n",
        "    print(\"*\",end=\"\")\n",
        "  print()"
      ],
      "metadata": {
        "colab": {
          "base_uri": "https://localhost:8080/"
        },
        "id": "z4WQALbPt3c2",
        "outputId": "1fc29717-1871-4d53-c7f2-18f72330b27b"
      },
      "execution_count": 4,
      "outputs": [
        {
          "output_type": "stream",
          "name": "stdout",
          "text": [
            "Heads: 4\n",
            "Tails: 6\n",
            "Square of all numbers between 1 to 10 except even numbers:\n",
            "1\n",
            "9\n",
            "25\n",
            "49\n",
            "81\n",
            "Enter your expense for any month:2\n",
            "You don't have this month's expenses\n",
            "Are you tired?\n",
            "Enter yes or no:yes\n",
            "You didn't finish the race\n",
            "*\n",
            "**\n",
            "***\n",
            "****\n",
            "*****\n"
          ]
        }
      ]
    },
    {
      "cell_type": "markdown",
      "source": [
        "*10. Functions*"
      ],
      "metadata": {
        "id": "sqRcGBd0hnCe"
      }
    },
    {
      "cell_type": "code",
      "source": [
        "def calculate_area(base, height, shape):\n",
        "  if shape == \"triangle\":\n",
        "    area = (base * height) / 2\n",
        "  elif shape == \"rectangle\":\n",
        "    area = base * height\n",
        "  else:  # Handle invalid shape input\n",
        "    print(\"Invalid shape provided. Defaulting to triangle.\")\n",
        "    area = (base * height) / 2\n",
        "  return area\n",
        "\n",
        "base = int(input(\"Enter base: \"))\n",
        "height = int(input(\"Enter height: \"))\n",
        "shape = input(\"Enter shape (triangle or rectangle, or press Enter for default triangle): \") # Prompt with default option\n",
        "\n",
        "# If shape is empty, use default triangle\n",
        "if not shape:\n",
        "  shape = \"triangle\"\n",
        "\n",
        "a = calculate_area(base, height, shape)\n",
        "print(a)\n",
        "\n",
        "\n",
        "def print_pattern(n):\n",
        "  for i in range(1,n+1):\n",
        "    print(\"*\" * i)\n",
        "  return\n",
        "\n",
        "n = int(input(\"Enter the number of lines you want in your pattern:\"))\n",
        "n = print_pattern(n)"
      ],
      "metadata": {
        "colab": {
          "base_uri": "https://localhost:8080/"
        },
        "id": "V-Y-ZvNwhmKh",
        "outputId": "104d2515-7cad-4376-bbea-be9e6fe27d2d"
      },
      "execution_count": 16,
      "outputs": [
        {
          "output_type": "stream",
          "name": "stdout",
          "text": [
            "Enter base: 1\n",
            "Enter height: 2\n",
            "Enter shape (triangle or rectangle, or press Enter for default triangle): \n",
            "1.0\n",
            "Enter the number of lines you want in your pattern:4\n",
            "*\n",
            "**\n",
            "***\n",
            "****\n"
          ]
        }
      ]
    },
    {
      "cell_type": "markdown",
      "source": [
        "*11. Dictionaries and Tuples*"
      ],
      "metadata": {
        "id": "Gsrlb77mQthk"
      }
    },
    {
      "cell_type": "code",
      "source": [
        "population = {\"China\":143, \"India\":136, \"USA\":32, \"Pakistan\":21}\n",
        "print(population)\n",
        "print(population.keys())\n",
        "print(population.values())\n",
        "print(population.items())\n",
        "\n",
        "inputs = input(\"Enter four type of inputs(print, add, remove, query):\")\n",
        "if inputs == \"print\":\n",
        "  for key in population:\n",
        "    print(key,\"==>\",population[key])\n",
        "\n",
        "elif inputs == \"add\":\n",
        "  country = input(\"Enter country name:\")\n",
        "  if country in population:\n",
        "    print(\"Country already exists\")\n",
        "  else:\n",
        "    population[country] = int(input(\"Enter population:\"))\n",
        "  for key in population:\n",
        "    print(key,\"==>\",population[key])\n",
        "\n",
        "elif inputs == \"remove\":\n",
        "  country = input(\"Enter country name:\")\n",
        "  if country in population:\n",
        "    del population[country]\n",
        "  else:\n",
        "    print(\"Country not found\")\n",
        "  for key in population:\n",
        "    print(key,\"==>\",population[key])\n",
        "\n",
        "elif inputs == \"query\":\n",
        "  country = input(\"Enter country name:\")\n",
        "  if country in population:\n",
        "    print(population[country])\n",
        "  else:\n",
        "    print(\"Country not found\")"
      ],
      "metadata": {
        "colab": {
          "base_uri": "https://localhost:8080/"
        },
        "id": "IVwgJbL3QvZe",
        "outputId": "d01dca70-af23-4b82-99b1-8fd2144b3cdf"
      },
      "execution_count": 6,
      "outputs": [
        {
          "output_type": "stream",
          "name": "stdout",
          "text": [
            "{'China': 143, 'India': 136, 'USA': 32, 'Pakistan': 21}\n",
            "dict_keys(['China', 'India', 'USA', 'Pakistan'])\n",
            "dict_values([143, 136, 32, 21])\n",
            "dict_items([('China', 143), ('India', 136), ('USA', 32), ('Pakistan', 21)])\n",
            "Enter four type of inputs(print, add, remove, query):remove\n",
            "Enter country name:Pakistan\n",
            "China ==> 143\n",
            "India ==> 136\n",
            "USA ==> 32\n"
          ]
        }
      ]
    },
    {
      "cell_type": "code",
      "source": [
        "Stocks = {\n",
        "    \"info\": [600,630,620],\n",
        "    \"ril\": [1430,1490,1567],\n",
        "    \"mtl\": [234,180,160]\n",
        "}\n",
        "inputs = input(\"Enter an operation(print or add):\")\n",
        "if inputs == \"print\":\n",
        "  for key in Stocks:\n",
        "    avg = sum(Stocks[key]) / len(Stocks[key])\n",
        "    print(key,\"==>\",Stocks[key], \"==> avg:\", f\"{avg:.2f}\")\n",
        "elif inputs == \"add\":\n",
        "  company = input(\"Enter company name:\")\n",
        "  if company in Stocks:\n",
        "    print(\"Company already exists\")\n",
        "  else:\n",
        "    # Get stock prices as a list of integers\n",
        "    stock_prices_str = input(\"Enter stock prices separated by commas (e.g., 100,110,120):\")\n",
        "    stock_prices = [int(price) for price in stock_prices_str.split(\",\")]\n",
        "\n",
        "    # Assign the list of stock prices to the new company\n",
        "    Stocks[company] = stock_prices # Assign to the new company using the 'company' variable\n",
        "  for key in Stocks:\n",
        "    avg = sum(Stocks[key]) / len(Stocks[key])\n",
        "    print(key,\"==>\",Stocks[key], \"==> avg:\", f\"{avg:.2f}\")"
      ],
      "metadata": {
        "colab": {
          "base_uri": "https://localhost:8080/"
        },
        "id": "_FAf4RbXWlS1",
        "outputId": "16e6d585-9347-4590-b2ec-f8aac63937f2"
      },
      "execution_count": 15,
      "outputs": [
        {
          "output_type": "stream",
          "name": "stdout",
          "text": [
            "Enter an operation(print or add):add\n",
            "Enter company name:dlg\n",
            "Enter stock prices separated by commas (e.g., 100,110,120):234,556,665\n",
            "info ==> [600, 630, 620] ==> avg: 616.67\n",
            "ril ==> [1430, 1490, 1567] ==> avg: 1495.67\n",
            "mtl ==> [234, 180, 160] ==> avg: 191.33\n",
            "dlg ==> [234, 556, 665] ==> avg: 485.00\n"
          ]
        }
      ]
    },
    {
      "cell_type": "code",
      "source": [
        "def circle_calc(radius):\n",
        "  import math\n",
        "  area = math.pi * (radius ** 2)\n",
        "  circumference = 2 * math.pi * radius\n",
        "  return area, circumference\n",
        "\n",
        "radius = int(input(\"Enter radius:\"))\n",
        "area, circumference = circle_calc(radius)\n",
        "print(\"Area:\", area)\n",
        "print(\"Circumference:\", circumference)"
      ],
      "metadata": {
        "colab": {
          "base_uri": "https://localhost:8080/"
        },
        "id": "rw9JMqtdcJc9",
        "outputId": "73a82c01-38e4-4eb4-a432-7a3992fff4fe"
      },
      "execution_count": 16,
      "outputs": [
        {
          "output_type": "stream",
          "name": "stdout",
          "text": [
            "Enter radius:23\n",
            "Area: 1661.9025137490005\n",
            "Circumference: 144.51326206513048\n"
          ]
        }
      ]
    }
  ]
}